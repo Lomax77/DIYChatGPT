{
 "cells": [
  {
   "cell_type": "code",
   "execution_count": null,
   "id": "03483849",
   "metadata": {},
   "outputs": [
    {
     "name": "stdout",
     "output_type": "stream",
     "text": [
      "Say 'Siri' to start recording your question...\n"
     ]
    }
   ],
   "source": [
    "import openai\n",
    "import pyttsx3\n",
    "import speech_recognition as sr\n",
    "import time\n",
    "\n",
    "#Set OpenAI API key\n",
    "openai.api_key = \"OPEN-AI-Key\"\n",
    "\n",
    "#Initialize the text to speech engine\n",
    "engine = pyttsx3.init()\n",
    "\n",
    "def transcribe_audio_to_text(filename):\n",
    "    recognizer = sr.Recognizer()\n",
    "    with sr.AudioFile(filename) as source:\n",
    "        audio = recognizer.record(source)\n",
    "    try:\n",
    "        return recognizer.recognize_google(audio)\n",
    "    except:\n",
    "        print(\"Skipping unknown error\")\n",
    "        \n",
    "def generate_response(prompt):\n",
    "    response = openai.Completion.create(\n",
    "        engine=\"text-davinci-003\",\n",
    "        prompt=prompt,\n",
    "        max_tokens=4000,\n",
    "        n=1,\n",
    "        stop=None,\n",
    "        temperature=0.5,\n",
    "    )\n",
    "    return response[\"choices\"][0][\"text\"]\n",
    "\n",
    "def speak_text(text):\n",
    "    engine.say(text)\n",
    "    engine.runAndWait()\n",
    "    \n",
    "def main():\n",
    "    while True:\n",
    "        #Wait for user to say \"Siri\"\n",
    "        print(\"Say 'Siri' to start recording your question...\")\n",
    "        with sr.Microphone() as source:\n",
    "            recognizer = sr.Recognizer()\n",
    "            audio = recognizer.listen(source)\n",
    "            try:\n",
    "                transcription = recognizer.recognize_google(audio)\n",
    "                if transcription.lower() == \"siri\":\n",
    "                    #Record audio\n",
    "                    filename = \"input.wav\"\n",
    "                    print(\"Say your question...\")\n",
    "                    with sr.Microphone() as source:\n",
    "                        recognizer = sr.Recognizer()\n",
    "                        source.pause_threshold = 1\n",
    "                        audio = recognizer.listen(source, phrase_time_limit=None, timeout=None)\n",
    "                        with open(filename, \"wb\") as f:\n",
    "                            f.write(audio.get_wav_data())\n",
    "            \n",
    "                    # Transcribe audio to text\n",
    "                    text = transcribe_audio_to_text(filename)\n",
    "                    if text:\n",
    "                        print(f\"You said: {text}\")\n",
    "                        \n",
    "                        # Generate response using GPT-3\n",
    "                        response = generate_response(text)\n",
    "                        print(f\"GPT-3 says: {response}\")\n",
    "                        \n",
    "                        # Read response using text to speech\n",
    "                        speak_text(response)\n",
    "            except Exception as e:\n",
    "                print(\"An error has occurred: {}\".format(e))\n",
    "\n",
    "if __name__ == \"__main__\":\n",
    "    main()\n"
   ]
  }
 ],
 "metadata": {
  "kernelspec": {
   "display_name": "Python 3 (ipykernel)",
   "language": "python",
   "name": "python3"
  },
  "language_info": {
   "codemirror_mode": {
    "name": "ipython",
    "version": 3
   },
   "file_extension": ".py",
   "mimetype": "text/x-python",
   "name": "python",
   "nbconvert_exporter": "python",
   "pygments_lexer": "ipython3",
   "version": "3.10.0"
  }
 },
 "nbformat": 4,
 "nbformat_minor": 5
}
